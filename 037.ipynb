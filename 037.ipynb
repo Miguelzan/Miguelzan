{
  "nbformat": 4,
  "nbformat_minor": 0,
  "metadata": {
    "colab": {
      "name": "Cópia de Untitled9.ipynb",
      "provenance": [],
      "authorship_tag": "ABX9TyNSO7qos+PJR56M73flmBDd",
      "include_colab_link": true
    },
    "kernelspec": {
      "name": "python3",
      "display_name": "Python 3"
    },
    "language_info": {
      "name": "python"
    }
  },
  "cells": [
    {
      "cell_type": "markdown",
      "metadata": {
        "id": "view-in-github",
        "colab_type": "text"
      },
      "source": [
        "<a href=\"https://colab.research.google.com/github/Miguelzan/Exercicios-em-Python/blob/main/037.ipynb\" target=\"_parent\"><img src=\"https://colab.research.google.com/assets/colab-badge.svg\" alt=\"Open In Colab\"/></a>"
      ]
    },
    {
      "cell_type": "code",
      "execution_count": null,
      "metadata": {
        "id": "f0KzFWbDhVwW"
      },
      "outputs": [],
      "source": [
        "# Escreva um programa em Python que leia um número inteiro qualquer e peça para o usuário escolher qual será a base de conversão:\n",
        "\n",
        "print('''Escolha uma opção de conversão: \n",
        "[1] Binário \n",
        "[2] Octal\n",
        "[3] Hexadecimal\n",
        "''')\n",
        "n = int(input('Escolha um número: '))\n",
        "\n",
        "if n == 1:\n",
        "  print('''\n",
        "  Você escolheu Binário!\n",
        "  ''')\n",
        "  b = int(input('Digite um número inteiro para converter em Binário: '))\n",
        "  print('O número {} convertido para Binário é igual a {}'.format(b, bin(b)[2:]))\n",
        "elif n == 2:\n",
        "  print('''\n",
        "  Você escolheu Octal!\n",
        "  ''')\n",
        "  o = int(input('Digite um número inteiro para converter em Octal: '))\n",
        "  print('O número {} convertido para Octal é igual a {}'.format(o, oct(o)[2:]))\n",
        "elif n == 3:\n",
        "  print('''\n",
        "  Você escolheu Hexadecimal!\n",
        "  ''')\n",
        "  h = int(input('Digite um número inteiro para converter em Hexadecimal:'))\n",
        "  print('O número {} convertido para Hexadecimal é igual a {}'.format(h, hex(h)[2:]))\n",
        "else:\n",
        "  print('''Opção inválida. \n",
        "  Tente novamente!''')\n"
      ]
    }
  ]
}