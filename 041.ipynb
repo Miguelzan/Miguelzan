{
  "nbformat": 4,
  "nbformat_minor": 0,
  "metadata": {
    "colab": {
      "name": "Untitled10.ipynb",
      "provenance": [],
      "authorship_tag": "ABX9TyPi0MStzidM1Goh28yZ31uY",
      "include_colab_link": true
    },
    "kernelspec": {
      "name": "python3",
      "display_name": "Python 3"
    },
    "language_info": {
      "name": "python"
    }
  },
  "cells": [
    {
      "cell_type": "markdown",
      "metadata": {
        "id": "view-in-github",
        "colab_type": "text"
      },
      "source": [
        "<a href=\"https://colab.research.google.com/github/Miguelzan/Exercicios-em-Python/blob/main/041.ipynb\" target=\"_parent\"><img src=\"https://colab.research.google.com/assets/colab-badge.svg\" alt=\"Open In Colab\"/></a>"
      ]
    },
    {
      "cell_type": "code",
      "source": [
        "#Exercício Python 041: \n",
        "\n",
        "#A Confederação Nacional de Natação precisa de um programa que leia o ano de nascimento de um atleta e mostre sua categoria, de acordo com a idade:\n",
        "\n",
        "#– Até 9 anos: MIRIM\n",
        "\n",
        "#– Até 14 anos: INFANTIL\n",
        "\n",
        "#– Até 19 anos: JÚNIOR\n",
        "\n",
        "#– Até 25 anos: SÊNIOR\n",
        "\n",
        "#– Acima de 25 anos: MASTER\n",
        "\n",
        "from datetime import date\n",
        "print('''\\033[1;35;41mClassificando atletas por categoria:\n",
        "\n",
        "* MIRIM\n",
        "\n",
        "* INFANTIL\n",
        "\n",
        "* JÚNIOR\n",
        "\n",
        "* SÊNIOR\n",
        "\n",
        "* MASTER\n",
        "''')\n",
        "\n",
        "atual = date.today().year\n",
        "\n",
        "nasc = int(input('\\nDigite o seu ano de nascimento: '))\n",
        "idade = atual - nasc\n",
        "print(f'\\nO atleta tem {idade} anos!\\n')\n",
        "\n",
        "if idade <= 9:\n",
        "  print('Sua categoria é a: MIRIM!')\n",
        "\n",
        "elif idade <=14:\n",
        "  print('Sua categoria é a: INFANTIL!')\n",
        "\n",
        "elif idade <=19:\n",
        "  print(' Sua categoria é a: JÚNIOR!')\n",
        "\n",
        "elif idade <=25:\n",
        "  print(' Sua categoria é a: SENIOR!')\n",
        "\n",
        "else:\n",
        "  print('Sua categoria é a MASTER!')"
      ],
      "metadata": {
        "colab": {
          "base_uri": "https://localhost:8080/"
        },
        "id": "T0TzBTIeMplH",
        "outputId": "4b600ab9-d8e9-4f20-cae2-aa375cd91e6c"
      },
      "execution_count": 103,
      "outputs": [
        {
          "output_type": "stream",
          "name": "stdout",
          "text": [
            "\u001b[1;35;41mClassificando atletas por categoria:\n",
            "\n",
            "* MIRIM\n",
            "\n",
            "* INFANTIL\n",
            "\n",
            "* JÚNIOR\n",
            "\n",
            "* SÊNIOR\n",
            "\n",
            "* MASTER\n",
            "\n",
            "\n",
            "Digite o seu ano de nascimento: 2010\n",
            "\n",
            "O atleta tem 12 anos!\n",
            "\n",
            "Sua categoria é a: INFANTIL!\n"
          ]
        }
      ]
    }
  ]
}