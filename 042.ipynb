{
  "nbformat": 4,
  "nbformat_minor": 0,
  "metadata": {
    "colab": {
      "name": "Untitled10.ipynb",
      "provenance": [],
      "authorship_tag": "ABX9TyPK08Ol9ZeJj6L9VhIYQBYl",
      "include_colab_link": true
    },
    "kernelspec": {
      "name": "python3",
      "display_name": "Python 3"
    },
    "language_info": {
      "name": "python"
    }
  },
  "cells": [
    {
      "cell_type": "markdown",
      "metadata": {
        "id": "view-in-github",
        "colab_type": "text"
      },
      "source": [
        "<a href=\"https://colab.research.google.com/github/Miguelzan/Exercicios-em-Python/blob/main/042.ipynb\" target=\"_parent\"><img src=\"https://colab.research.google.com/assets/colab-badge.svg\" alt=\"Open In Colab\"/></a>"
      ]
    },
    {
      "cell_type": "code",
      "source": [
        "#Exercício Python 42: \n",
        "\n",
        "#Refaça o DESAFIO 35 dos triângulos, acrescentando o recurso de mostrar que tipo de triângulo será formado:\n",
        "\n",
        "#– EQUILÁTERO: todos os lados iguais\n",
        "\n",
        "#– ISÓSCELES: dois lados iguais, um diferente\n",
        "\n",
        "#– ESCALENO: todos os lados diferentes\n",
        "\n",
        "\n",
        "print('''\\033[2;39;40m°°°° Analisando Triângulos v2.0 °°°°°\n",
        "''')\n",
        "\n",
        "p1 = float(input('Digite o primeiro segmento: '))\n",
        "p2 = float(input('\\nDigite o segundo segmento: '))\n",
        "p3 = float(input('\\nDigite o terceiro segmento: '))\n",
        "\n",
        "if p1 < p2 + p3 and p2 < p1 + p3 and p3 < p1 + p2:\n",
        "\n",
        "  if p1 == p2  == p3:\n",
        "   print('\\nEste segmento forma um triângulo EQUILÁTERO!')\n",
        "\n",
        "  elif p1 == p2 and p1 != p3 and p2 != p3:\n",
        "   print('\\nEste segmento forma um triângulo ISÓSCELES!')\n",
        "\n",
        "  elif p1 != p2 and p2 != p3 and p1 != p3:\n",
        "    print('\\nEste segmento forma um triângulo ESCALENO!') \n",
        "\n",
        "else:\n",
        "  print('Não é possivel formar um Triângulo, Tente novamente!')\n"
      ],
      "metadata": {
        "id": "T0TzBTIeMplH"
      },
      "execution_count": null,
      "outputs": []
    }
  ]
}