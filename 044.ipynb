{
  "nbformat": 4,
  "nbformat_minor": 0,
  "metadata": {
    "colab": {
      "name": "Untitled12.ipynb",
      "provenance": [],
      "authorship_tag": "ABX9TyOOYr520eTky6WmE5jyw6vh",
      "include_colab_link": true
    },
    "kernelspec": {
      "name": "python3",
      "display_name": "Python 3"
    },
    "language_info": {
      "name": "python"
    }
  },
  "cells": [
    {
      "cell_type": "markdown",
      "metadata": {
        "id": "view-in-github",
        "colab_type": "text"
      },
      "source": [
        "<a href=\"https://colab.research.google.com/github/Miguelzan/Exercicios-em-Python/blob/main/044.ipynb\" target=\"_parent\"><img src=\"https://colab.research.google.com/assets/colab-badge.svg\" alt=\"Open In Colab\"/></a>"
      ]
    },
    {
      "cell_type": "code",
      "execution_count": null,
      "metadata": {
        "id": "rfoDHQPVHSqk"
      },
      "outputs": [],
      "source": [
        "#Exercício Python 44: \n",
        "\n",
        "#Elabore um programa que calcule o valor a ser pago por um produto, considerando o seu preço normal e condição de pagamento:\n",
        "\n",
        "#– à vista dinheiro/cheque: 10% de desconto\n",
        "#– à vista no cartão: 5% de desconto\n",
        "#– em até 2x no cartão: preço formal \n",
        "#– 3x ou mais no cartão: 20% de juros\n",
        "\n",
        "\n",
        "print(''' \\033[1;32;48mGerenciador de Pagamentos: \n",
        "\n",
        "*********** _______LOJINHA DO AZAN_______ ****************\n",
        "\n",
        " ''')\n",
        "\n",
        "produto = float(input('Qual é o valor do produto: R$ '))\n",
        "print('''\n",
        "\\033[1;36;48mEscolha um metodo de pagamento:\n",
        "\n",
        "[1] À vista (dinheiro ou cheque).\n",
        "[2] À vista no cartão.\n",
        "[3] Parcelado em 2x no cartão.\n",
        "[4] Parcelado em 3x ou mais no cartão.\n",
        "\n",
        "''')\n",
        "pagamento = int(input('Digite um número: '))\n",
        "\n",
        "if pagamento == 1:\n",
        "\n",
        "  valor = produto - (produto * 10/100)\n",
        "  print(f'\\nSua comprar de R${produto:.2f} vai custar R${valor:.2f} com um desconto de 10%.')\n",
        "\n",
        "elif pagamento == 2:\n",
        "\n",
        "  valor = produto - (produto * 5/100)\n",
        "  print(f'\\nSua comprar de R${produto:.2f} vai custar R${valor:.2f} com um desconto de 5%.')\n",
        "\n",
        "elif pagamento == 3:\n",
        "\n",
        "  valor = produto\n",
        "  parcelas = valor / 2\n",
        "  print(f'\\nSua compra será parcelada em 2x de R${parcelas} (SEM JUROS) do valor total de R${produto}')\n",
        "\n",
        "elif pagamento == 4:\n",
        "\n",
        "  valor = produto + (produto * 20/100)\n",
        "  numparc = int(input('\\nQual será o total de parcelas? '))\n",
        "  parcelas = valor / numparc\n",
        "  print(f'Sua compra será parcelada em {numparc} x de {parcelas:.2f} (COM JUROS DE 20%) do valor total de {produto}')\n",
        "\n",
        "else:\n",
        "  print('\\n\\033[1;31mOpção inválida, Tente novamente!')\n",
        "\n"
      ]
    }
  ]
}