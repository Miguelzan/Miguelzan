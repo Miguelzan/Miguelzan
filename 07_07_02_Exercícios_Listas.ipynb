{
  "cells": [
    {
      "cell_type": "markdown",
      "metadata": {
        "id": "view-in-github",
        "colab_type": "text"
      },
      "source": [
        "<a href=\"https://colab.research.google.com/github/Miguelzan/Exercicios-em-Python/blob/main/07_07_02_Exerc%C3%ADcios_Listas.ipynb\" target=\"_parent\"><img src=\"https://colab.research.google.com/assets/colab-badge.svg\" alt=\"Open In Colab\"/></a>"
      ]
    },
    {
      "cell_type": "markdown",
      "metadata": {
        "id": "eFWaE3slism-"
      },
      "source": [
        "# Exercícios\n",
        "\n",
        "## 1. Faturamento do Melhor e do Pior Mês do Ano\n",
        "\n",
        "Qual foi o valor de vendas do melhor mês do Ano?\n",
        "E valor do pior mês do ano?"
      ]
    },
    {
      "cell_type": "markdown",
      "metadata": {
        "id": "D_Itzn7OisnF"
      },
      "source": [
        "## 2. Continuação\n",
        "\n",
        "Agora relacione as duas listas para printar 'O melhor mês do ano foi {} com {} vendas' e o mesmo para o pior mês do ano.\n",
        "\n",
        "Calcule também o faturamento total do Ano e quanto que o melhor mês representou do faturamento total.\n",
        "\n",
        "Obs: Para o faturamento total, pode usar a função sum(lista) que soma todos os itens de uma lista"
      ]
    },
    {
      "cell_type": "code",
      "source": [
        "#Faturamento do Melhor e do Pior Mês do Ano:\n",
        "\n",
        "# Listas:\n",
        "meses = ['Jan', 'Fev', 'Mar', 'Abr', 'Mai', 'Jun', 'Jul', 'Ago', 'Set', 'Out', 'Nov', 'Dez']\n",
        "vendas1 = [25000, 29000, 22200, 17750, 15870, 19900]\n",
        "vendas2 = [19850, 20120, 17540, 15555, 49051, 9650]\n",
        "\n",
        "# Realiza a junção das Listas vendas 1 e vendas 2:\n",
        "vendas1.extend(vendas2)\n",
        "\n",
        "# Veririfca o item maior e menor das listas:\n",
        "maior_valor = max(vendas1)\n",
        "menor_valor = min(vendas1)\n",
        "\n",
        "# Verifica a posição do item na lista informada:\n",
        "i_maior_valor = vendas1.index(maior_valor)\n",
        "i_menor_valor = vendas1.index(menor_valor)\n",
        "\n",
        "# Imprime na tela os resultados do maior e menor mês:\n",
        "print(f'O Melhor mês do ano foi {meses[i_maior_valor]} com {maior_valor} vendas.')\n",
        "print(f'\\nO Pior mês do ano foi {meses[i_menor_valor]} com {menor_valor} vendas.')\n",
        "\n",
        "# Soma dos o valores de uma lista e imprime o total:\n",
        "total = sum(vendas1)\n",
        "print(f'\\nFaturamento Total: R$ {total:,}.')\n",
        "\n",
        "# Verifica o percentual e imprime:\n",
        "percentual = maior_valor / total\n",
        "print(f'\\nO melhor mês representou {percentual:.1%} das vendas do ano todo.')"
      ],
      "metadata": {
        "id": "FjMGl8--qzVX"
      },
      "execution_count": null,
      "outputs": []
    },
    {
      "cell_type": "markdown",
      "metadata": {
        "id": "NC-QhF43isnH"
      },
      "source": [
        "## 3. Crie uma lista com o top 3 valores de vendas do ano (sem fazer \"no olho\")\n",
        "\n",
        "Dica: o método remove retira um item da lista."
      ]
    },
    {
      "cell_type": "code",
      "source": [
        "#Listas\n",
        "vendas1 = [25000, 29000, 22200, 17750, 15870, 19900]\n",
        "vendas2 = [19850, 20120, 17540, 15555, 49051, 9650]\n",
        "\n",
        "# Realiza a junção das Listas vendas 1 e vendas 2:\n",
        "vendas1.extend(vendas2)\n",
        "print(f'Lista: {vendas1}')\n",
        "\n",
        "# Cria uma lista vazia\n",
        "top3 = []\n",
        "\n",
        "# Veririfica o maior valor na lista, Adicionar ele no top3 e Remove ele da lista:\n",
        "maior_valor = max(vendas1)\n",
        "top3.append(maior_valor)\n",
        "vendas1.remove(maior_valor)\n",
        "\n",
        "maior_valor = max(vendas1)\n",
        "top3.append(maior_valor)\n",
        "vendas1.remove(maior_valor)\n",
        "\n",
        "maior_valor = max(vendas1)\n",
        "top3.append(maior_valor)\n",
        "vendas1.remove(maior_valor)\n",
        "\n",
        "# Exibe os 3 maiores valores localizados na lista\n",
        "print(f'\\nEsse e o Top 3 de vendas da lista: {top3}')"
      ],
      "metadata": {
        "id": "FPCJMRWnpUDm"
      },
      "execution_count": null,
      "outputs": []
    }
  ],
  "metadata": {
    "kernelspec": {
      "display_name": "Python 3",
      "language": "python",
      "name": "python3"
    },
    "language_info": {
      "codemirror_mode": {
        "name": "ipython",
        "version": 3
      },
      "file_extension": ".py",
      "mimetype": "text/x-python",
      "name": "python",
      "nbconvert_exporter": "python",
      "pygments_lexer": "ipython3",
      "version": "3.8.3"
    },
    "colab": {
      "provenance": [],
      "include_colab_link": true
    }
  },
  "nbformat": 4,
  "nbformat_minor": 0
}