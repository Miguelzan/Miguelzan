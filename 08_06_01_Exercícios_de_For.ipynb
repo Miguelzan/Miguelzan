{
  "cells": [
    {
      "cell_type": "markdown",
      "metadata": {
        "id": "view-in-github",
        "colab_type": "text"
      },
      "source": [
        "<a href=\"https://colab.research.google.com/github/Miguelzan/Exercicios-em-Python/blob/main/08_06_01_Exerc%C3%ADcios_de_For.ipynb\" target=\"_parent\"><img src=\"https://colab.research.google.com/assets/colab-badge.svg\" alt=\"Open In Colab\"/></a>"
      ]
    },
    {
      "cell_type": "markdown",
      "metadata": {
        "id": "CzZHu18meonS"
      },
      "source": [
        "# Exercícios\n",
        "\n",
        "## 1. Calculando % de uma lista\n",
        "\n",
        "Faremos algo parecido com \"filtrar\" uma lista. Mais pra frente no curso aprenderemos outras formas de fazer isso, mas com o nosso conhecimentoa atual já conseguimos resolver o desafio.\n",
        "\n",
        "Digamos que a gente tenha uma lista de vendedores e ao invés de saber todos os vendedores que bateram a meta, eu quero conseguir calcular o % de vendedores que bateram a meta. Ou seja, se temos 10 vendedores e 3 bateram a meta, temos 30% dos vendedores que bateram a meta."
      ]
    },
    {
      "cell_type": "markdown",
      "metadata": {
        "id": "e5mGlBn8eone"
      },
      "source": [
        "- Vamos resolver de 2 formas:\n",
        "    1. Criando uma lista auxiliar apenas com os vendedores que bateram a meta\n",
        "    2. Fazendo o cálculo diretamente na lista que já temos"
      ]
    },
    {
      "cell_type": "markdown",
      "metadata": {
        "id": "74FBwdoXeone"
      },
      "source": [
        "## Para treinar uma estrutura parecida, crie um código para responder: quem foi o vendedor que mais vendeu?"
      ]
    },
    {
      "cell_type": "code",
      "execution_count": null,
      "metadata": {
        "id": "YLCN1q_keonb"
      },
      "outputs": [],
      "source": [
        "# Utilizando variavel de lista:\n",
        "\n",
        "\n",
        "meta = 10000\n",
        "vendas = [\n",
        "    ['João', 15000],\n",
        "    ['Julia', 27000],\n",
        "    ['Marcus', 9900],\n",
        "    ['Maria', 3750],\n",
        "    ['Ana', 10300],\n",
        "    ['Alon', 7870],\n",
        "]\n",
        "\n",
        "meta_batida = []\n",
        "\n",
        "#(Ex1) vendedores que bateram a meta? \n",
        "\n",
        "for venda in vendas:\n",
        "  if venda [1] >= meta:\n",
        "    meta_batida.append(venda)\n",
        "porcentagem = len(meta_batida)\n",
        "print('{:.0%} dos funcionarios bateram a meta.'.format(porcentagem / len(vendas)))\n",
        "\n",
        "#(Ex2) quem foi o vendedor que mais vendeu? \n",
        "\n",
        "i = vendas.index(max(meta_batida))\n",
        "print(f'o melhor vendedor foi {vendas[i][0]} com {vendas[i][1]}')\n"
      ]
    },
    {
      "cell_type": "code",
      "source": [
        "# Utilizando a variavel de contador:\n",
        "\n",
        "meta = 10000\n",
        "vendas = [\n",
        "    ['João', 15000],\n",
        "    ['Julia', 27000],\n",
        "    ['Marcus', 9900],\n",
        "    ['Maria', 3750],\n",
        "    ['Ana', 10300],\n",
        "    ['Alon', 7870],\n",
        "]\n",
        "\n",
        "#(Ex1) vendedores que bateram a meta? \n",
        "\n",
        "meta_batida = 0\n",
        "\n",
        "\n",
        "for venda in vendas:\n",
        "  if venda [1] >= meta:\n",
        "     meta_batida += 1\n",
        "print('{:.0%} dos funcionarios bateram a meta.'.format(meta_batida / len(vendas)))\n",
        "\n",
        "\n",
        "#(Ex2) quem foi o vendedor que mais vendeu? \n",
        "\n",
        "melhor_vendedor = ''\n",
        "maior_venda = 0\n",
        "\n",
        "for venda in vendas:\n",
        " if venda [1] > maior_venda:\n",
        "   maior_venda = venda[1]\n",
        "   melhor_vendedor = venda [0]\n",
        "print(f'o melhor vendedor foi {melhor_vendedor} com {maior_venda}')\n",
        "   \n",
        "\n"
      ],
      "metadata": {
        "id": "imY2tw4zsST7"
      },
      "execution_count": null,
      "outputs": []
    }
  ],
  "metadata": {
    "kernelspec": {
      "display_name": "Python 3",
      "language": "python",
      "name": "python3"
    },
    "language_info": {
      "codemirror_mode": {
        "name": "ipython",
        "version": 3
      },
      "file_extension": ".py",
      "mimetype": "text/x-python",
      "name": "python",
      "nbconvert_exporter": "python",
      "pygments_lexer": "ipython3",
      "version": "3.8.3"
    },
    "colab": {
      "provenance": [],
      "include_colab_link": true
    }
  },
  "nbformat": 4,
  "nbformat_minor": 0
}