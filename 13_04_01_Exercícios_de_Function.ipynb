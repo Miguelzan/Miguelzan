{
  "cells": [
    {
      "cell_type": "markdown",
      "metadata": {
        "id": "view-in-github",
        "colab_type": "text"
      },
      "source": [
        "<a href=\"https://colab.research.google.com/github/Miguelzan/Exercicios-em-Python/blob/main/13_04_01_Exerc%C3%ADcios_de_Function.ipynb\" target=\"_parent\"><img src=\"https://colab.research.google.com/assets/colab-badge.svg\" alt=\"Open In Colab\"/></a>"
      ]
    },
    {
      "cell_type": "markdown",
      "metadata": {
        "id": "50sj3N579lLf"
      },
      "source": [
        "# Exercícios\n",
        "\n",
        "Para fazer um treino simples antes de avançarmos em mais functions, vamos criar uma function que resolve 1 \"desafio simples\"\n",
        "\n",
        "## 1. Function para Cálculo de Carga Tributária\n",
        "\n",
        "(Lembrando, não se atente ao funcionamento real da carga tributária, é apenas um exemplo imaginário para treinarmos as functions com algo mais prático)\n",
        "\n",
        "Imagine que você trabalha no setor contábil de uma grande empresa de Varejo. \n",
        "\n",
        "Crie uma function que calcule qual o % de carga tributária que está sendo aplicado sobre um determinado produto, dado o preço de venda, o \"lucro\" e os custos (com exceção do imposto) dele."
      ]
    },
    {
      "cell_type": "markdown",
      "metadata": {
        "id": "62qwg5WO9lLj"
      },
      "source": [
        "Repare que preço - custo não é igual ao lucro, porque ainda foi descontado o imposto. Sua functiona deve calcular qual foi o % de imposto aplicado sobre o preço total."
      ]
    },
    {
      "cell_type": "code",
      "execution_count": null,
      "metadata": {
        "id": "_xgO7IGe9lLk"
      },
      "outputs": [],
      "source": [
        "#Cálculo de Carga Tributária\n",
        "preco = 1500\n",
        "custo = 400\n",
        "lucro = 800\n",
        "\n",
        "def calculo_carga_tributaria(preco,custo,lucro):\n",
        "  valores = (preco-custo-lucro)\n",
        "  porcentagem = valores / preco\n",
        "  return valores, porcentagem\n",
        "\n",
        "imposto = calculo_carga_tributaria(preco,custo,lucro)\n",
        "\n",
        "print(f'\\nA carga tributária foi de R$ {imposto[0]} que representa {imposto[1]:.1%}.')"
      ]
    }
  ],
  "metadata": {
    "kernelspec": {
      "display_name": "Python 3",
      "language": "python",
      "name": "python3"
    },
    "language_info": {
      "codemirror_mode": {
        "name": "ipython",
        "version": 3
      },
      "file_extension": ".py",
      "mimetype": "text/x-python",
      "name": "python",
      "nbconvert_exporter": "python",
      "pygments_lexer": "ipython3",
      "version": "3.8.3"
    },
    "colab": {
      "provenance": [],
      "include_colab_link": true
    }
  },
  "nbformat": 4,
  "nbformat_minor": 0
}