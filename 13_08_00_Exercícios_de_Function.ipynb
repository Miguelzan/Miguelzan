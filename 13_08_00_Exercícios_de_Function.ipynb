{
  "cells": [
    {
      "cell_type": "markdown",
      "metadata": {
        "id": "view-in-github",
        "colab_type": "text"
      },
      "source": [
        "<a href=\"https://colab.research.google.com/github/Miguelzan/Exercicios-em-Python/blob/main/13_08_00_Exerc%C3%ADcios_de_Function.ipynb\" target=\"_parent\"><img src=\"https://colab.research.google.com/assets/colab-badge.svg\" alt=\"Open In Colab\"/></a>"
      ]
    },
    {
      "cell_type": "markdown",
      "metadata": {
        "id": "NRPunEPmjrBK"
      },
      "source": [
        "# Exercícios\n",
        "\n",
        "### Antes de irmos para o desafio que apresentamos na última aula (que é bem mais complexo do que um exemplo simples) vamos resolver um exercício um pouco mais simples para treinar\n",
        "\n",
        "## 1. Cálculo do Percentual e da Lista de Vendedores\n",
        "\n",
        "- Queremos criar uma function que consiga identificar os vendedores que bateram uma meta, mas além disso, consigo já me dar como resposta o cálculo do % da lista de vendedores que bateu a meta (para eu não precisar calcular manualmente depois)\n",
        "- Essa function deve receber 2 informações como parâmetro: a meta e um dicionário com os vendedores e suas vendas. E me dar 2 respostas: uma lista com o nome dos vendedores que bateram a meta e o % de vendedores que bateu a meta."
      ]
    },
    {
      "cell_type": "code",
      "execution_count": null,
      "metadata": {
        "id": "b9uCbGnsjrBP"
      },
      "outputs": [],
      "source": [
        "meta = 10000\n",
        "vendas = {\n",
        "    'João': 15000,\n",
        "    'Julia': 27000,\n",
        "    'Marcus': 9900,\n",
        "    'Maria': 3750,\n",
        "    'Ana': 10300,\n",
        "    'Alon': 7870,\n",
        "}\n",
        "\n",
        "#crie sua function aqui\n",
        "\n",
        "def calculo_percentual(meta,vendas):\n",
        "  bateu_meta = []\n",
        "  for vendedor in vendas:\n",
        "    if vendas [vendedor] >= meta:\n",
        "      bateu_meta.append(vendedor)\n",
        "  percentual = len(bateu_meta) / len(vendas)\n",
        "  return percentual, bateu_meta\n",
        "percentual,vendedores , = calculo_percentual(meta, vendas)\n",
        "\n",
        "print(f'{percentual:.0%} dos vendedores bateram a meta.')\n",
        "print(f'Sendo eles:{vendedores}')\n"
      ]
    }
  ],
  "metadata": {
    "kernelspec": {
      "display_name": "Python 3",
      "language": "python",
      "name": "python3"
    },
    "language_info": {
      "codemirror_mode": {
        "name": "ipython",
        "version": 3
      },
      "file_extension": ".py",
      "mimetype": "text/x-python",
      "name": "python",
      "nbconvert_exporter": "python",
      "pygments_lexer": "ipython3",
      "version": "3.8.3"
    },
    "colab": {
      "provenance": [],
      "include_colab_link": true
    }
  },
  "nbformat": 4,
  "nbformat_minor": 0
}