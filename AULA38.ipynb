{
  "nbformat": 4,
  "nbformat_minor": 0,
  "metadata": {
    "colab": {
      "name": "Untitled9.ipynb",
      "provenance": [],
      "authorship_tag": "ABX9TyPOPh6/x9DZwEZSKlKHLKSK",
      "include_colab_link": true
    },
    "kernelspec": {
      "name": "python3",
      "display_name": "Python 3"
    },
    "language_info": {
      "name": "python"
    }
  },
  "cells": [
    {
      "cell_type": "markdown",
      "metadata": {
        "id": "view-in-github",
        "colab_type": "text"
      },
      "source": [
        "<a href=\"https://colab.research.google.com/github/Miguelzan/Exercicios-em-Python/blob/main/AULA38.ipynb\" target=\"_parent\"><img src=\"https://colab.research.google.com/assets/colab-badge.svg\" alt=\"Open In Colab\"/></a>"
      ]
    },
    {
      "cell_type": "code",
      "source": [
        "#Exercício Python 038: \n",
        "\n",
        "#Escreva um programa que leia dois números inteiros e compare-os. mostrando na tela uma mensagem:\n",
        "n1 = int(input('Digite um número inteiro:'))\n",
        "n2 = int(input('Digite um número inteiro:'))\n",
        "\n",
        "#– O primeiro valor é maior\n",
        "if n1 > n2:\n",
        "  print('O primeiro número e maior que o segundo!')\n",
        "#– O segundo valor é maior\n",
        "elif n2 > n1:\n",
        "  print('O segundo número e maior que o primeiro!')\n",
        "#– Não existe valor maior, os dois são iguais\n",
        "else:\n",
        "  print('Não existe valor maior, os dois são iguais')\n"
      ],
      "metadata": {
        "id": "lzdJlbQQ4PGz"
      },
      "execution_count": null,
      "outputs": []
    }
  ]
}