{
  "nbformat": 4,
  "nbformat_minor": 0,
  "metadata": {
    "colab": {
      "name": "Untitled10.ipynb",
      "provenance": [],
      "authorship_tag": "ABX9TyP3GigaAH7dWSI9FpNz+Cql",
      "include_colab_link": true
    },
    "kernelspec": {
      "name": "python3",
      "display_name": "Python 3"
    },
    "language_info": {
      "name": "python"
    }
  },
  "cells": [
    {
      "cell_type": "markdown",
      "metadata": {
        "id": "view-in-github",
        "colab_type": "text"
      },
      "source": [
        "<a href=\"https://colab.research.google.com/github/Miguelzan/Exercicios-em-Python/blob/main/Aula%2040.ipynb\" target=\"_parent\"><img src=\"https://colab.research.google.com/assets/colab-badge.svg\" alt=\"Open In Colab\"/></a>"
      ]
    },
    {
      "cell_type": "code",
      "execution_count": null,
      "metadata": {
        "id": "US5p48Aj6wMf"
      },
      "outputs": [],
      "source": [
        "#Exercício Python 040:\n",
        "\n",
        "#Crie um programa que leia duas notas de um aluno e calcule sua média, mostrando uma mensagem no final, de acordo com a média atingida:\n",
        "\n",
        "#– Média abaixo de 5.0: REPROVADO\n",
        "\n",
        "#– Média entre 5.0 e 6.9: RECUPERAÇÃO\n",
        "\n",
        "#– Média 7.0 ou superior: APROVADO\n",
        "\n",
        "print('''\\033[1;34;45m__Calculando média dos alunos__\n",
        "''')\n",
        "\n",
        "nota1 = float(input('Digite a primeira nota: '))\n",
        "\n",
        "nota2 = float(input('Digite a segunda nota: '))\n",
        "\n",
        "media = (nota1 + nota2) / 2\n",
        "\n",
        "print(f'''\n",
        "Tirando a média final de: {media:.1f}! ''')\n",
        "\n",
        "if media < 5:\n",
        " \n",
        "  print('\\nVocê foi reprovado!')\n",
        "\n",
        "elif 7 > media >= 5:\n",
        "  \n",
        "  print('\\nVocê está de recuperação!')\n",
        "\n",
        "else:\n",
        "\n",
        "  print('\\nVocê está aprovado!')\n",
        "\n",
        "\n"
      ]
    }
  ]
}