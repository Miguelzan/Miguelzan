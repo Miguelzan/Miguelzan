{
  "cells": [
    {
      "cell_type": "markdown",
      "metadata": {
        "id": "view-in-github",
        "colab_type": "text"
      },
      "source": [
        "<a href=\"https://colab.research.google.com/github/Miguelzan/Curso-em-video-atividades/blob/main/Calculo%20de%20Triangulo.ipynb\" target=\"_parent\"><img src=\"https://colab.research.google.com/assets/colab-badge.svg\" alt=\"Open In Colab\"/></a>"
      ]
    },
    {
      "cell_type": "code",
      "source": [
        "#Desenvolva um programa que leia o comprimento de três retas e diga ao usuário se elas podem ou não formar um triângulo.\n",
        "print('*'*20)\n",
        "print('Analizador de triângulos:')\n",
        "print('*'*20)\n",
        "\n",
        "r1 = float(input('PRIMEIRO SEGMENTO:'))\n",
        "r2 =float(input('SEGUNDO SEGMENTO:'))\n",
        "r3 =float(input('TERCEIRO SEGMENTO:'))\n",
        "\n",
        "if r1 < r2 + r3 and r2 < r1 + r3 and r3 < r1 + r2:\n",
        "  print('OS SEGMENTOS ACIMA PODEM FORMAR UM TRIANGULO!')\n",
        "else:\n",
        "  print('OS SEGMENTOS ACIMA NÃO PODEM FORMAR UM TRIANGULO!')"
      ],
      "metadata": {
        "id": "8Cs-N4-ndj7v"
      },
      "execution_count": null,
      "outputs": []
    }
  ],
  "metadata": {
    "colab": {
      "name": "Cópia de Cópia de Untitled0.ipynb",
      "provenance": [],
      "collapsed_sections": [],
      "authorship_tag": "ABX9TyPDgOJSgb6y6CG8/w6qw1wa",
      "include_colab_link": true
    },
    "kernelspec": {
      "display_name": "Python 3",
      "name": "python3"
    },
    "language_info": {
      "name": "python"
    }
  },
  "nbformat": 4,
  "nbformat_minor": 0
}