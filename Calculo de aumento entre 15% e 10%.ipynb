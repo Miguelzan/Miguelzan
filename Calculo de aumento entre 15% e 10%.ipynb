{
  "cells": [
    {
      "cell_type": "markdown",
      "metadata": {
        "id": "view-in-github",
        "colab_type": "text"
      },
      "source": [
        "<a href=\"https://colab.research.google.com/github/Miguelzan/Curso-em-video-atividades/blob/main/Calculo%20de%20aumento%20entre%2015%25%20e%2010%25.ipynb\" target=\"_parent\"><img src=\"https://colab.research.google.com/assets/colab-badge.svg\" alt=\"Open In Colab\"/></a>"
      ]
    },
    {
      "cell_type": "code",
      "source": [
        "#Crie um programa que pergunte o salário de um funcionário e calcule o valor do seu aumento.\n",
        "#Para salários superiores a R$1250,00,calcule um aumento de 10%. Para os inferiores ou iguais, o aumento é de 15%.\n",
        "\n",
        "salario = float(input('Qual é seu salário atual?R$ '))\n",
        "cores = {'Azul':'\\033[34m',\n",
        "         'Sem cor':'\\033[m',\n",
        "         'Amarelo':'\\033[33m',\n",
        "         'PretoeBranco':'\\033[7;30m'}\n",
        "if salario <= 2000:\n",
        "  aumento = salario + (salario * 15/100)\n",
        "else:\n",
        "  aumento = salario + (salario * 10/100)\n",
        "print('salario atual do funcionario com aumento e dê R$ {}{:.2f}{}'.format(cores['Azul'],aumento,cores['Amarelo']))\n",
        "\n"
      ],
      "metadata": {
        "id": "siaLaunkVh9P"
      },
      "execution_count": null,
      "outputs": []
    }
  ],
  "metadata": {
    "colab": {
      "name": "Cópia de Cópia de Untitled0.ipynb",
      "provenance": [],
      "collapsed_sections": [],
      "authorship_tag": "ABX9TyOrJT8Wl8BUmduPH03c/r1x",
      "include_colab_link": true
    },
    "kernelspec": {
      "display_name": "Python 3",
      "name": "python3"
    },
    "language_info": {
      "name": "python"
    }
  },
  "nbformat": 4,
  "nbformat_minor": 0
}