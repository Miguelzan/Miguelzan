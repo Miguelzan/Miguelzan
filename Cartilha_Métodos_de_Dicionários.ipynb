{
  "cells": [
    {
      "cell_type": "markdown",
      "metadata": {
        "id": "view-in-github",
        "colab_type": "text"
      },
      "source": [
        "<a href=\"https://colab.research.google.com/github/Miguelzan/Exercicios-em-Python/blob/main/Cartilha_M%C3%A9todos_de_Dicion%C3%A1rios.ipynb\" target=\"_parent\"><img src=\"https://colab.research.google.com/assets/colab-badge.svg\" alt=\"Open In Colab\"/></a>"
      ]
    },
    {
      "cell_type": "markdown",
      "metadata": {
        "id": "2NAGExFyctX4"
      },
      "source": [
        "# Métodos Específicos de Dicionário"
      ]
    },
    {
      "cell_type": "markdown",
      "metadata": {
        "id": "qO_thQ98ctX9"
      },
      "source": [
        "- clear() -> Deleta todos os elementos do Dicionário (semelhante ao que aprendemos em listas)"
      ]
    },
    {
      "cell_type": "code",
      "execution_count": null,
      "metadata": {
        "id": "YUduhcUvctX-",
        "outputId": "38ebbdb8-bff7-4340-86b0-0a43f3c3651f"
      },
      "outputs": [
        {
          "name": "stdout",
          "output_type": "stream",
          "text": [
            "{}\n"
          ]
        }
      ],
      "source": [
        "vendas_mes = {'jan': 150, 'fev': 100, 'mar': 190}\n",
        "vendas_mes.clear()\n",
        "print(vendas_mes)"
      ]
    },
    {
      "cell_type": "markdown",
      "metadata": {
        "id": "qR7vT76IctYB"
      },
      "source": [
        "- copy() -> Cria uma cópia do dicionário (semelhante ao que aprendemos em listas)"
      ]
    },
    {
      "cell_type": "code",
      "execution_count": null,
      "metadata": {
        "id": "t0JnwKWlctYB",
        "outputId": "a37245e8-af21-4b1d-8911-d82def70293e"
      },
      "outputs": [
        {
          "name": "stdout",
          "output_type": "stream",
          "text": [
            "{'jan': 150, 'fev': 100, 'mar': 190}\n"
          ]
        }
      ],
      "source": [
        "vendas_mes = {'jan': 150, 'fev': 100, 'mar': 190}\n",
        "vendas2_mes = vendas_mes.copy()\n",
        "print(vendas2_mes)"
      ]
    },
    {
      "cell_type": "markdown",
      "metadata": {
        "id": "7rqOeUbqctYC"
      },
      "source": [
        "- fromkeys(chaves, valor_padrao) -> Cria um dicionário com as chaves e o mesmo valor padrão para todas as chaves"
      ]
    },
    {
      "cell_type": "code",
      "execution_count": null,
      "metadata": {
        "id": "G3bWE9XfctYC",
        "outputId": "2d51c336-5b74-485c-d5d1-e1be469d9e3d"
      },
      "outputs": [
        {
          "name": "stdout",
          "output_type": "stream",
          "text": [
            "{'jan': 100, 'fev': 100, 'mar': 100}\n"
          ]
        }
      ],
      "source": [
        "chaves = ('jan', 'fev', 'mar')\n",
        "vendas = 100\n",
        "vendas_mes = dict.fromkeys(chaves, vendas)\n",
        "print(vendas_mes)"
      ]
    },
    {
      "cell_type": "markdown",
      "metadata": {
        "id": "GCR8D_LSctYD"
      },
      "source": [
        "- get(chave) -> \tRetorna o valor especificado pela chave (Semelhante a fazer dictionario[chave]"
      ]
    },
    {
      "cell_type": "code",
      "execution_count": null,
      "metadata": {
        "id": "u5Qcsd7wctYE",
        "outputId": "24984c24-7982-464c-c3b8-d6eb47da9ea7"
      },
      "outputs": [
        {
          "name": "stdout",
          "output_type": "stream",
          "text": [
            "190\n"
          ]
        }
      ],
      "source": [
        "vendas_mes = {'jan': 150, 'fev': 100, 'mar': 190}\n",
        "print(vendas_mes.get('mar'))"
      ]
    },
    {
      "cell_type": "markdown",
      "metadata": {
        "id": "IVWkkEnQctYF"
      },
      "source": [
        "- items() -> Retorna uma lista em que cada item é uma tupla com (chave, valor)"
      ]
    },
    {
      "cell_type": "code",
      "execution_count": null,
      "metadata": {
        "id": "OJsZDI0OctYF",
        "outputId": "6334f2cb-c031-40d6-bab9-3b73a96312fa"
      },
      "outputs": [
        {
          "name": "stdout",
          "output_type": "stream",
          "text": [
            "[('jan', 150), ('fev', 100), ('mar', 190)]\n"
          ]
        }
      ],
      "source": [
        "vendas_mes = {'jan': 150, 'fev': 100, 'mar': 190}\n",
        "print(list(vendas_mes.items()))"
      ]
    },
    {
      "cell_type": "markdown",
      "metadata": {
        "id": "AG5XXQKvctYG"
      },
      "source": [
        "- keys() -> Retorna uma lista com todas as chaves do dicionário"
      ]
    },
    {
      "cell_type": "code",
      "execution_count": null,
      "metadata": {
        "id": "0GwY8b_VctYG",
        "outputId": "9519c16c-dde6-46c3-f2bb-565d73d2edff"
      },
      "outputs": [
        {
          "name": "stdout",
          "output_type": "stream",
          "text": [
            "['jan', 'fev', 'mar']\n"
          ]
        }
      ],
      "source": [
        "vendas_mes = {'jan': 150, 'fev': 100, 'mar': 190}\n",
        "print(list(vendas_mes.keys()))"
      ]
    },
    {
      "cell_type": "markdown",
      "metadata": {
        "id": "ylLmgeWLctYH"
      },
      "source": [
        "- pop(chave) -> Retira o item do dicionário e retorna o valor dele para ser usado"
      ]
    },
    {
      "cell_type": "code",
      "execution_count": null,
      "metadata": {
        "id": "QIBLWb8fctYH",
        "outputId": "2eaeafd7-444c-4818-85da-a6280708b919"
      },
      "outputs": [
        {
          "name": "stdout",
          "output_type": "stream",
          "text": [
            "{'jan': 150, 'mar': 190}\n",
            "100\n"
          ]
        }
      ],
      "source": [
        "vendas_mes = {'jan': 150, 'fev': 100, 'mar': 190}\n",
        "vendas_fev = vendas_mes.pop('fev') #retira o fevereiro do dicionário ao mesmo tempo que armazena o valor dele na variável\n",
        "print(vendas_mes)\n",
        "print(vendas_fev)"
      ]
    },
    {
      "cell_type": "markdown",
      "metadata": {
        "id": "KvA67b9EctYI"
      },
      "source": [
        "- popitem() -> Retira o último item adicionado ao dicionário"
      ]
    },
    {
      "cell_type": "code",
      "execution_count": null,
      "metadata": {
        "id": "y4wG_rDJctYI",
        "outputId": "49edd7ad-84a5-4635-c500-58b34a364fc3"
      },
      "outputs": [
        {
          "name": "stdout",
          "output_type": "stream",
          "text": [
            "{'jan': 150, 'fev': 100}\n",
            "('mar', 190)\n"
          ]
        }
      ],
      "source": [
        "vendas_mes = {'jan': 150, 'fev': 100, 'mar': 190}\n",
        "#retira o último item adicionado no dicionário ao mesmo tempo que armazena o item(chave, valor) dele na variável\n",
        "vendas_ult = vendas_mes.popitem() \n",
        "print(vendas_mes)\n",
        "print(vendas_ult)"
      ]
    },
    {
      "cell_type": "markdown",
      "metadata": {
        "id": "R7flfm0ectYJ"
      },
      "source": [
        "- setdefault(chave, valor) -> Retorna o valor da chave passada, mas caso a chave não exista, cria no dicionário o item com a chave e valor passados."
      ]
    },
    {
      "cell_type": "code",
      "execution_count": null,
      "metadata": {
        "id": "fMYbzpEDctYJ",
        "outputId": "37edf468-59ac-4606-dcda-7b3e9770baac"
      },
      "outputs": [
        {
          "name": "stdout",
          "output_type": "stream",
          "text": [
            "100\n",
            "600\n",
            "{'jan': 150, 'fev': 100, 'mar': 190, 'abr': 600}\n"
          ]
        }
      ],
      "source": [
        "vendas_mes = {'jan': 150, 'fev': 100, 'mar': 190}\n",
        "vendas_fev = vendas_mes.setdefault('fev', 500)\n",
        "print(vendas_fev)\n",
        "#repare que como fevereiro existe na lista, ele procura pelo valor de fevereiro e ignora o 500 passado\n",
        "#agora quando não existe na lista:\n",
        "vendas_abr = vendas_mes.setdefault('abr', 600)\n",
        "#repare que agora além de vendas_abr retornar o 600 como valor, ele adicionou um item no dicionario\n",
        "print(vendas_abr)\n",
        "print(vendas_mes)"
      ]
    },
    {
      "cell_type": "markdown",
      "metadata": {
        "id": "4hkq7YkKctYK"
      },
      "source": [
        "- update(dicionario) -> Adiciona o dicionário passado como parâmetro ao dicionário original"
      ]
    },
    {
      "cell_type": "code",
      "execution_count": null,
      "metadata": {
        "id": "cVkIG2TrctYK",
        "outputId": "cffbe4a3-3e37-42a8-fa93-22a0b3fa94be"
      },
      "outputs": [
        {
          "name": "stdout",
          "output_type": "stream",
          "text": [
            "{'jan': 150, 'fev': 100, 'mar': 190, 'abr': 400, 'mai': 600, 'jun': 500}\n"
          ]
        }
      ],
      "source": [
        "vendas_mes = {'jan': 150, 'fev': 100, 'mar': 190}\n",
        "vendas_2tri = {'abr': 400, 'mai': 600, 'jun': 500}\n",
        "vendas_mes.update(vendas_2tri)\n",
        "print(vendas_mes)"
      ]
    },
    {
      "cell_type": "markdown",
      "metadata": {
        "id": "rfZwneSpctYK"
      },
      "source": [
        "- values() -> Retorna uma lista com todos os valores do dicionários"
      ]
    },
    {
      "cell_type": "code",
      "execution_count": null,
      "metadata": {
        "id": "r88ugEGjctYL",
        "outputId": "97f5db31-abe5-4313-bf45-6a022ecea083"
      },
      "outputs": [
        {
          "name": "stdout",
          "output_type": "stream",
          "text": [
            "[150, 100, 190]\n"
          ]
        }
      ],
      "source": [
        "vendas_mes = {'jan': 150, 'fev': 100, 'mar': 190}\n",
        "print(list(vendas_mes.values()))"
      ]
    }
  ],
  "metadata": {
    "kernelspec": {
      "display_name": "Python 3",
      "language": "python",
      "name": "python3"
    },
    "language_info": {
      "codemirror_mode": {
        "name": "ipython",
        "version": 3
      },
      "file_extension": ".py",
      "mimetype": "text/x-python",
      "name": "python",
      "nbconvert_exporter": "python",
      "pygments_lexer": "ipython3",
      "version": "3.8.3"
    },
    "colab": {
      "provenance": [],
      "include_colab_link": true
    }
  },
  "nbformat": 4,
  "nbformat_minor": 0
}