{
  "nbformat": 4,
  "nbformat_minor": 0,
  "metadata": {
    "colab": {
      "provenance": [],
      "authorship_tag": "ABX9TyMj/8oP8GzsFjtrCRLDqdcf",
      "include_colab_link": true
    },
    "kernelspec": {
      "name": "python3",
      "display_name": "Python 3"
    },
    "language_info": {
      "name": "python"
    }
  },
  "cells": [
    {
      "cell_type": "markdown",
      "metadata": {
        "id": "view-in-github",
        "colab_type": "text"
      },
      "source": [
        "<a href=\"https://colab.research.google.com/github/Miguelzan/Exercicios-em-Python/blob/main/C%C3%B3pia_de_Automa%C3%A7%C3%A3o_Selenium.ipynb\" target=\"_parent\"><img src=\"https://colab.research.google.com/assets/colab-badge.svg\" alt=\"Open In Colab\"/></a>"
      ]
    },
    {
      "cell_type": "code",
      "source": [
        "from selenium import webdriver\n",
        "from selenium.webdriver.common.keys import Keys\n",
        "\n",
        "# abrir o navegador\n",
        "driver = webdriver.Chrome()\n",
        "\n",
        "# acessar o gmail\n",
        "driver.get('https://gmail.com/')\n",
        "\n",
        "# encontrar o campo de login\n",
        "username_field = driver.find_element_by_id('identifierId')\n",
        "\n",
        "# inserir o nome de usuário\n",
        "username_field.send_keys('seu_email@gmail.com')\n",
        "\n",
        "# clicar em \"Próxima\"\n",
        "username_field.send_keys(Keys.RETURN)\n",
        "\n",
        "# encontrar o campo de senha\n",
        "password_field = driver.find_element_by_name('password')\n",
        "\n",
        "# inserir a senha\n",
        "password_field.send_keys('sua_senha')\n",
        "\n",
        "# clicar em \"Próxima\"\n",
        "password_field.send_keys(Keys.RETURN)"
      ],
      "metadata": {
        "id": "-mhjXopLA5q3"
      },
      "execution_count": null,
      "outputs": []
    }
  ]
}