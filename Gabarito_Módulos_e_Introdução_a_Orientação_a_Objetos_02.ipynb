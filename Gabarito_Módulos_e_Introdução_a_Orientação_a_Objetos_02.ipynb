{
  "cells": [
    {
      "cell_type": "markdown",
      "metadata": {
        "id": "view-in-github",
        "colab_type": "text"
      },
      "source": [
        "<a href=\"https://colab.research.google.com/github/Miguelzan/Exercicios-em-Python/blob/main/Gabarito_M%C3%B3dulos_e_Introdu%C3%A7%C3%A3o_a_Orienta%C3%A7%C3%A3o_a_Objetos_02.ipynb\" target=\"_parent\"><img src=\"https://colab.research.google.com/assets/colab-badge.svg\" alt=\"Open In Colab\"/></a>"
      ]
    },
    {
      "cell_type": "markdown",
      "metadata": {
        "id": "eqtbTvK5Ff3B"
      },
      "source": [
        "# O que são Módulos e qual a importância deles?\n",
        "\n",
        "### Importância\n",
        "\n",
        "- Já tem muita coisa pronta, então você não precisa criar do zero.\n",
        "- Se você souber usar Módulos e como usar um módulo novo, você vai conseguir fazer praticamente tudo no Python\n",
        "\n",
        "### Estrutura Básica"
      ]
    },
    {
      "cell_type": "raw",
      "metadata": {
        "id": "j9VkGTyUFf3L"
      },
      "source": [
        "import módulo\n",
        "\n",
        "ou\n",
        "\n",
        "import módulo as nome"
      ]
    },
    {
      "cell_type": "markdown",
      "metadata": {
        "id": "nggZaeA_Ff3N"
      },
      "source": [
        "- Exemplo: Como pode fazer o nosso código abrir um site específico na internet?"
      ]
    },
    {
      "cell_type": "code",
      "execution_count": null,
      "metadata": {
        "id": "5pJAfiloFf3O"
      },
      "outputs": [],
      "source": [
        "import webbrowser as wb\n",
        "\n",
        "wb.open('https://hashtagtreinamentos.com')"
      ]
    },
    {
      "cell_type": "markdown",
      "metadata": {
        "id": "144sIyzsFf3T"
      },
      "source": [
        "### Variações"
      ]
    },
    {
      "cell_type": "raw",
      "metadata": {
        "id": "ESkwi-GkFf3T"
      },
      "source": [
        "#importar o módulo sem precisar usar o nome dele\n",
        "from modulo import *\n",
        "\n",
        "#importar apenas algumas partes do módulo\n",
        "from modulo import funcao1, funcao2, etc."
      ]
    }
  ],
  "metadata": {
    "kernelspec": {
      "display_name": "Python 3",
      "language": "python",
      "name": "python3"
    },
    "language_info": {
      "codemirror_mode": {
        "name": "ipython",
        "version": 3
      },
      "file_extension": ".py",
      "mimetype": "text/x-python",
      "name": "python",
      "nbconvert_exporter": "python",
      "pygments_lexer": "ipython3",
      "version": "3.8.3"
    },
    "colab": {
      "provenance": [],
      "include_colab_link": true
    }
  },
  "nbformat": 4,
  "nbformat_minor": 0
}