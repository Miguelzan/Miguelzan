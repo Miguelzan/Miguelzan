{
  "cells": [
    {
      "cell_type": "markdown",
      "metadata": {
        "id": "view-in-github",
        "colab_type": "text"
      },
      "source": [
        "<a href=\"https://colab.research.google.com/github/Miguelzan/Exercicios-em-Python/blob/main/Gabarito_M%C3%B3dulos_e_Introdu%C3%A7%C3%A3o_a_Orienta%C3%A7%C3%A3o_a_Objetos_04.ipynb\" target=\"_parent\"><img src=\"https://colab.research.google.com/assets/colab-badge.svg\" alt=\"Open In Colab\"/></a>"
      ]
    },
    {
      "cell_type": "markdown",
      "metadata": {
        "id": "z1LTlay9KXPK"
      },
      "source": [
        "# Módulo time\n",
        "\n",
        "### Estrutura:\n",
        "\n",
        "- Um dos módulos mais usados no Python. Tudo que diz respeito a data, a marcar quanto tempo leva alguma ação, ou a tempo mesmo, o módulo time vai ajudar a gente"
      ]
    },
    {
      "cell_type": "raw",
      "metadata": {
        "id": "ZN4GFAq9KXPU"
      },
      "source": [
        "import time"
      ]
    },
    {
      "cell_type": "code",
      "execution_count": null,
      "metadata": {
        "id": "hRoHU3ZHKXPV"
      },
      "outputs": [],
      "source": [
        "import time"
      ]
    },
    {
      "cell_type": "markdown",
      "metadata": {
        "id": "JceXUsO8KXPX"
      },
      "source": [
        "- Marco Zero (chamado de EPOCH) = 1 de Janeiro de 1970 às 00:00:00\n",
        "- time() retorna quantos segundos se passaram desde a EPOCH"
      ]
    },
    {
      "cell_type": "code",
      "execution_count": null,
      "metadata": {
        "id": "EO_IHqCZKXPY",
        "outputId": "f7c0cec3-f1d0-4ff8-ed6a-358e42ff1d50"
      },
      "outputs": [
        {
          "name": "stdout",
          "output_type": "stream",
          "text": [
            "1602013004.6264832\n"
          ]
        }
      ],
      "source": [
        "segundos_hoje = time.time()\n",
        "print(segundos_hoje)"
      ]
    },
    {
      "cell_type": "markdown",
      "metadata": {
        "id": "9SSG9kqdKXPa"
      },
      "source": [
        "- ctime retorna a data em string o texto no formato UTC (um formato padrão de datas)"
      ]
    },
    {
      "cell_type": "code",
      "execution_count": null,
      "metadata": {
        "id": "n7Wojj1qKXPa",
        "outputId": "d1a82590-9a50-4fa2-b4c9-e149e15f12cf"
      },
      "outputs": [
        {
          "name": "stdout",
          "output_type": "stream",
          "text": [
            "Tue Oct  6 16:37:36 2020\n"
          ]
        }
      ],
      "source": [
        "data_hoje = time.ctime()\n",
        "#ou entao data_hoje = time.ctime(time())\n",
        "print(data_hoje)"
      ]
    },
    {
      "cell_type": "markdown",
      "metadata": {
        "id": "Hx6USzTVKXPb"
      },
      "source": [
        "- Isso já pode ser muito útil para medir o tempo que uma ação leva, caso seja do interesse:"
      ]
    },
    {
      "cell_type": "code",
      "execution_count": null,
      "metadata": {
        "id": "tCEdQN80KXPc",
        "outputId": "3033cc85-d154-4b35-c0f6-6b575bf94caa"
      },
      "outputs": [
        {
          "name": "stdout",
          "output_type": "stream",
          "text": [
            "O programa levou 5.654706716537476 segundos para rodar\n"
          ]
        }
      ],
      "source": [
        "tempo_inicial = time.time()\n",
        "for i in range(100000000):\n",
        "    pass\n",
        "tempo_final = time.time()\n",
        "duracao = tempo_final - tempo_inicial\n",
        "print('O programa levou {} segundos para rodar'.format(duracao))"
      ]
    },
    {
      "cell_type": "markdown",
      "metadata": {
        "id": "h3ckIW3VKXPd"
      },
      "source": [
        "- Fazer o código esperar alguns segundos (muito útil quando temos que esperar um programa ou uma página carregar)"
      ]
    },
    {
      "cell_type": "code",
      "execution_count": null,
      "metadata": {
        "id": "-bWCF2wLKXPe",
        "outputId": "5ff36f85-8101-437f-ed9b-1abea4fdc70a"
      },
      "outputs": [
        {
          "name": "stdout",
          "output_type": "stream",
          "text": [
            "Começando\n",
            "Rodou 5 segundos após\n"
          ]
        }
      ],
      "source": [
        "#para esperar 5 segundos fazemos:\n",
        "print('Começando')\n",
        "time.sleep(5)\n",
        "print('Rodou 5 segundos após')"
      ]
    },
    {
      "cell_type": "markdown",
      "metadata": {
        "id": "9jWjVRu8KXPe"
      },
      "source": [
        "- Pegar informações de dias, hora, segundo, minuto, tudo detalhado:\n",
        "- gmtime()\n",
        "- gmtime().parâmetro"
      ]
    },
    {
      "cell_type": "code",
      "execution_count": null,
      "metadata": {
        "id": "MOk76doqKXPf",
        "outputId": "010c82fb-9132-4b84-992b-94f2385c474f"
      },
      "outputs": [
        {
          "name": "stdout",
          "output_type": "stream",
          "text": [
            "time.struct_time(tm_year=2020, tm_mon=10, tm_mday=6, tm_hour=19, tm_min=42, tm_sec=38, tm_wday=1, tm_yday=280, tm_isdst=0)\n"
          ]
        }
      ],
      "source": [
        "data_atual = time.gmtime()\n",
        "print(data_atual)"
      ]
    },
    {
      "cell_type": "markdown",
      "metadata": {
        "id": "7wi1znuEKXPf"
      },
      "source": [
        "- É um objeto diferente, mas podemos pegar os parâmetros de ano, mês, dia, etc fazendo:"
      ]
    },
    {
      "cell_type": "code",
      "execution_count": null,
      "metadata": {
        "id": "kN6F4tFPKXPg",
        "outputId": "f45f6f85-99a2-4b79-d046-0bfe7621a556"
      },
      "outputs": [
        {
          "name": "stdout",
          "output_type": "stream",
          "text": [
            "Hoje é dia 6/10/2020\n"
          ]
        }
      ],
      "source": [
        "ano = data_atual.tm_year\n",
        "mes = data_atual.tm_mon\n",
        "dia = data_atual.tm_mday\n",
        "hora = data_atual.tm_hour\n",
        "dia_da_semana = data_atual.tm_wday\n",
        "\n",
        "print('Hoje é dia {}/{}/{}'.format(dia, mes, ano))"
      ]
    }
  ],
  "metadata": {
    "kernelspec": {
      "display_name": "Python 3",
      "language": "python",
      "name": "python3"
    },
    "language_info": {
      "codemirror_mode": {
        "name": "ipython",
        "version": 3
      },
      "file_extension": ".py",
      "mimetype": "text/x-python",
      "name": "python",
      "nbconvert_exporter": "python",
      "pygments_lexer": "ipython3",
      "version": "3.8.3"
    },
    "colab": {
      "provenance": [],
      "include_colab_link": true
    }
  },
  "nbformat": 4,
  "nbformat_minor": 0
}