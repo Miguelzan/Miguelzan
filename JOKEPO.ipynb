{
  "nbformat": 4,
  "nbformat_minor": 0,
  "metadata": {
    "colab": {
      "name": "Untitled13.ipynb",
      "provenance": [],
      "authorship_tag": "ABX9TyMgua8dew4vuzfuk82kluse",
      "include_colab_link": true
    },
    "kernelspec": {
      "name": "python3",
      "display_name": "Python 3"
    },
    "language_info": {
      "name": "python"
    }
  },
  "cells": [
    {
      "cell_type": "markdown",
      "metadata": {
        "id": "view-in-github",
        "colab_type": "text"
      },
      "source": [
        "<a href=\"https://colab.research.google.com/github/Miguelzan/Exercicios-em-Python/blob/main/JOKEPO.ipynb\" target=\"_parent\"><img src=\"https://colab.research.google.com/assets/colab-badge.svg\" alt=\"Open In Colab\"/></a>"
      ]
    },
    {
      "cell_type": "code",
      "source": [
        "#Exercício Python 45:\n",
        "\n",
        "#Crie um programa que faça o computador jogar Jokenpô com você.\n",
        "\n",
        "print('GAME: Pedra Papel e Tesoura')\n",
        "\n",
        "from random import randint\n",
        "from time import sleep\n",
        "\n",
        "#ESCOLHA DO COMPUTADOR\n",
        "\n",
        "lista= ('PEDRA','PAPEL','TESOURA')\n",
        "computador = randint(0,2)\n",
        "\n",
        "#ESCOLHA DO JOGADOR:\n",
        "\n",
        "jogador = int(input('''\n",
        "\n",
        "ESCOLHA UMA OPÇÃO:\n",
        "\n",
        "[0] PEDRA\n",
        "\n",
        "[1] PAPEL\n",
        "\n",
        "[2] TESOURA\n",
        "\n",
        "'''))\n",
        "\n",
        "print('\\n>>> PEDRA')\n",
        "sleep(1)\n",
        "print('\\n>>> PAPEL')\n",
        "sleep(1)\n",
        "print('\\n>>> TESOOOOURA...?')\n",
        "\n",
        "#EXECUTA ESCOLHA DO COMPUTADOR E JOGADOR:\n",
        "\n",
        "print(f'\\nO COMPUTADOR ESCOLHEU: {lista[computador]}')\n",
        "print(f'\\nO JOGADOR ESCOLHEU: {lista[jogador]}')\n",
        "\n",
        "\n",
        "#EXECUTADO AO ESCOLHER PEDRA:\n",
        "\n",
        "if computador == 0:\n",
        "\n",
        "  if jogador == 0:\n",
        "   print('\\nDEU EMPATE!')\n",
        "  if jogador == 1:\n",
        "    print('\\nVOCÊ PERDEU!')\n",
        "  \n",
        "  elif jogador == 2:\n",
        "    print('\\nVOCÊ GANHOU!')\n",
        "  \n",
        "\n",
        "#EXECUTADO AO ESOCLHER PAPEL:\n",
        "\n",
        "elif computador == 1:\n",
        "    if jogador == 1:\n",
        "     print('\\nDEU EMPATE!')\n",
        "    if jogador == 2:\n",
        "     print('\\nVOCÊ PERDEU!')\n",
        "  \n",
        "    elif jogador == 0:\n",
        "     print('\\nVOCÊ GANHOU!')\n",
        "    \n",
        "\n",
        "#EXECUTADO AO ESCOLHER TESOURA:\n",
        "\n",
        "elif computador == 2:\n",
        "\n",
        "  if jogador == 2:\n",
        "   print('\\nDEU EMPATE!')\n",
        "  elif jogador == 0:\n",
        "     print('\\nVOCÊ PERDEU!')\n",
        "  elif jogador == 1:\n",
        "     print('\\nVOCÊ GANHOU!')\n",
        "  \n",
        "#SE NÃO FOR NENHUMA OPÇÃO:\n",
        "else:\n",
        "  print('Opção Inválida,Tente Novamente!')\n",
        "\n"
      ],
      "metadata": {
        "id": "sfPweqcWLF0N"
      },
      "execution_count": null,
      "outputs": []
    }
  ]
}