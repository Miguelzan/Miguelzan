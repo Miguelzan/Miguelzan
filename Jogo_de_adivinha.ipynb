{
  "cells": [
    {
      "cell_type": "markdown",
      "metadata": {
        "id": "view-in-github",
        "colab_type": "text"
      },
      "source": [
        "<a href=\"https://colab.research.google.com/github/Miguelzan/Curso-em-video-atividades/blob/main/Jogo_de_adivinha.ipynb\" target=\"_parent\"><img src=\"https://colab.research.google.com/assets/colab-badge.svg\" alt=\"Open In Colab\"/></a>"
      ]
    },
    {
      "cell_type": "code",
      "source": [
        "print('Vou pensar em um número de 0 à 5, tente adivinhar!!!')\n",
        "print('Pensando...')\n",
        "print('--*--'*10)\n",
        "n = str(input('Em que número eu pensei? '))\n",
        "print('Processando...')\n",
        "print('--*--'*10)\n",
        "if n == '3':\n",
        " print('Meus parabens, você acertou! :)')\n",
        "\n",
        "else:\n",
        " print('Infelizmente você errou, tente novamente! :( ')"
      ],
      "metadata": {
        "id": "_L3n4JZZk3Oq"
      },
      "execution_count": null,
      "outputs": []
    }
  ],
  "metadata": {
    "colab": {
      "name": "Jogo de adivinha.ipynb",
      "provenance": [],
      "collapsed_sections": [],
      "authorship_tag": "ABX9TyM6X4015n27GU9qdv0onqz4",
      "include_colab_link": true
    },
    "kernelspec": {
      "display_name": "Python 3",
      "name": "python3"
    },
    "language_info": {
      "name": "python"
    }
  },
  "nbformat": 4,
  "nbformat_minor": 0
}