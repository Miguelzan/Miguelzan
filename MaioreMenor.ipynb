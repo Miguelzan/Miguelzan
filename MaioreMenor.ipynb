{
  "cells": [
    {
      "cell_type": "markdown",
      "metadata": {
        "id": "view-in-github",
        "colab_type": "text"
      },
      "source": [
        "<a href=\"https://colab.research.google.com/github/Miguelzan/Curso-em-video-atividades/blob/main/MaioreMenor.ipynb\" target=\"_parent\"><img src=\"https://colab.research.google.com/assets/colab-badge.svg\" alt=\"Open In Colab\"/></a>"
      ]
    },
    {
      "cell_type": "code",
      "source": [
        "#Faça um programa que leia três números e mostre qual é o maior e qual é o menor.\n",
        "\n",
        "a = int(input('Digite o Primeiro número? '))\n",
        "b = int(input('Digite o Segudo número? '))\n",
        "c = int(input('Digite o Terceiro número? '))\n",
        "\n",
        "#Verificando o menor:\n",
        "menor = a\n",
        "if b < a and c < b:\n",
        " menor = b\n",
        "if c < a and c < b:\n",
        " menor = c\n",
        "#Verificando o maior:\n",
        "maior = a\n",
        "if b > a and c > b:\n",
        "  maior = b\n",
        "if c > a and c > b:\n",
        "  maior = c   \n",
        "\n",
        "print(f'O menor número digitado é {menor} e o maior é {maior}')\n",
        "\n"
      ],
      "metadata": {
        "id": "_77TJeAuN0nZ"
      },
      "execution_count": null,
      "outputs": []
    }
  ],
  "metadata": {
    "colab": {
      "name": "Cópia de Cópia de Untitled0.ipynb",
      "provenance": [],
      "collapsed_sections": [],
      "authorship_tag": "ABX9TyNTRRNDIyO3ZfTq1IK8ctSY",
      "include_colab_link": true
    },
    "kernelspec": {
      "display_name": "Python 3",
      "name": "python3"
    },
    "language_info": {
      "name": "python"
    }
  },
  "nbformat": 4,
  "nbformat_minor": 0
}