{
  "cells": [
    {
      "cell_type": "markdown",
      "metadata": {
        "id": "view-in-github",
        "colab_type": "text"
      },
      "source": [
        "<a href=\"https://colab.research.google.com/github/Miguelzan/Exercicios-em-Python/blob/main/Programa%20que%20Calcula%20o%20pre%C3%A7o%20da%20passagem.ipynb\" target=\"_parent\"><img src=\"https://colab.research.google.com/assets/colab-badge.svg\" alt=\"Open In Colab\"/></a>"
      ]
    },
    {
      "cell_type": "code",
      "source": [
        "#Desenvolva um programa Calcule o preço da passagem, cobrando R$0,50 por Km para viagens de até 200Km e R$0,45 parta viagens mais longas.\n",
        "\n",
        "d = float(input('Qual é a distância da sua viajem?'))\n",
        "\n",
        "print(f'\\033[1mVocê está prestes a começar uma viagem de {d}Km.')\n",
        "\n",
        "if d <= 200:\n",
        "  custo = d * 0.50\n",
        "  print(f'E o preço da sua passagem será de R${custo:.2f}.')\n",
        "else:\n",
        "  custo = d * 0.45\n",
        "  print(f'E o preço da sua passagem será de \\033[1;34mR${custo:.2f}.')\n"
      ],
      "metadata": {
        "id": "AMj-KLhN0rqL"
      },
      "execution_count": null,
      "outputs": []
    }
  ],
  "metadata": {
    "colab": {
      "name": "Cópia de Untitled0.ipynb",
      "provenance": [],
      "collapsed_sections": [],
      "authorship_tag": "ABX9TyOkZ/MnsZeq0Tq+iDpfqxeC",
      "include_colab_link": true
    },
    "kernelspec": {
      "display_name": "Python 3",
      "name": "python3"
    },
    "language_info": {
      "name": "python"
    }
  },
  "nbformat": 4,
  "nbformat_minor": 0
}