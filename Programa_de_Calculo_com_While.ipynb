{
  "nbformat": 4,
  "nbformat_minor": 0,
  "metadata": {
    "colab": {
      "provenance": [],
      "authorship_tag": "ABX9TyPfkeWYLaLt7e5hoIFYht4s",
      "include_colab_link": true
    },
    "kernelspec": {
      "name": "python3",
      "display_name": "Python 3"
    },
    "language_info": {
      "name": "python"
    }
  },
  "cells": [
    {
      "cell_type": "markdown",
      "metadata": {
        "id": "view-in-github",
        "colab_type": "text"
      },
      "source": [
        "<a href=\"https://colab.research.google.com/github/Miguelzan/Exercicios-em-Python/blob/main/Programa_de_Calculo_com_While.ipynb\" target=\"_parent\"><img src=\"https://colab.research.google.com/assets/colab-badge.svg\" alt=\"Open In Colab\"/></a>"
      ]
    },
    {
      "cell_type": "code",
      "source": [
        "#Lista Vazia:\n",
        "\n",
        "valores = []\n",
        "\n",
        "# Recebe valor do usuário: \n",
        "\n",
        "while True:\n",
        "  n = float(input('\\nDigite um número: '))\n",
        "  valores.append(n)\n",
        "\n",
        "# Verifica se o usuario deseja encerrar o loop:\n",
        "\n",
        "  space = input('\\nSe quiser continuar digite c, Para encerrar aperte espaço! ')\n",
        "  if space == ' ':\n",
        "    print('\\n3Programa Finalizado!')\n",
        "    break\n",
        "  elif space == 'c':\n",
        "    print('Ok')\n",
        "  else:\n",
        "    print('\\nOpção invalida, tente novamente!')\n",
        "\n",
        "# Verifica o Maior e Menor Valor:\n",
        "\n",
        "maior = max(valores)\n",
        "menor = min(valores)\n",
        "\n",
        "# Imprime o Maior e o Menor valor:\n",
        "\n",
        "print(f'\\nO maior valor foi: {maior}')\n",
        "print(f'\\nO menor valor foi: {menor}')"
      ],
      "metadata": {
        "id": "lkkXtTMJyjvm"
      },
      "execution_count": null,
      "outputs": []
    }
  ]
}