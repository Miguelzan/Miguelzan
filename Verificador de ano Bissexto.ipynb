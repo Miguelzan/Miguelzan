{
  "cells": [
    {
      "cell_type": "markdown",
      "metadata": {
        "id": "view-in-github",
        "colab_type": "text"
      },
      "source": [
        "<a href=\"https://colab.research.google.com/github/Miguelzan/Curso-em-video-atividades/blob/main/Verificador%20de%20ano%20Bissexto.ipynb\" target=\"_parent\"><img src=\"https://colab.research.google.com/assets/colab-badge.svg\" alt=\"Open In Colab\"/></a>"
      ]
    },
    {
      "cell_type": "code",
      "source": [
        "# Programa que ler um ano, e mostra se ele é bissexto.\n",
        "\n",
        "from datetime import date                                  # O módulo datetime fornece as classes para manipulação de datas e horas.\n",
        "\n",
        "ano = int(input('Que ano gostaria de saber se é ou não Bissexto? ou Digite 0 para verirficar o ano atual? '))\n",
        "\n",
        "if ano == 0:\n",
        "  ano = date.today().year                                   # Após digitar o Número 0 veirifica o ano atual.\n",
        "\n",
        "\n",
        "if ano % 4 == 0 and ano % 100 != 0 or ano % 400 == 0:       # Informa que o ano e Bissexto.\n",
        "  print(f'O ano {ano} é Bissexto!')\n",
        "\n",
        "\n",
        "else:\n",
        " print(f'O ano {ano} não é Bissexto!')                      # Informa que o ano não é Bissexto."
      ],
      "metadata": {
        "id": "41D-9iyK_GE4"
      },
      "execution_count": null,
      "outputs": []
    }
  ],
  "metadata": {
    "colab": {
      "name": "Untitled0.ipynb",
      "provenance": [],
      "collapsed_sections": [],
      "authorship_tag": "ABX9TyMrn62SbKFXlinQFaXoGF51",
      "include_colab_link": true
    },
    "kernelspec": {
      "display_name": "Python 3",
      "name": "python3"
    },
    "language_info": {
      "name": "python"
    }
  },
  "nbformat": 4,
  "nbformat_minor": 0
}