{
  "nbformat": 4,
  "nbformat_minor": 0,
  "metadata": {
    "colab": {
      "name": "Untitled9.ipynb",
      "provenance": [],
      "authorship_tag": "ABX9TyPGyqpnpmplnmZscUWHWez6",
      "include_colab_link": true
    },
    "kernelspec": {
      "name": "python3",
      "display_name": "Python 3"
    },
    "language_info": {
      "name": "python"
    }
  },
  "cells": [
    {
      "cell_type": "markdown",
      "metadata": {
        "id": "view-in-github",
        "colab_type": "text"
      },
      "source": [
        "<a href=\"https://colab.research.google.com/github/Miguelzan/Exercicios-em-Python/blob/main/aula%2036.ipynb\" target=\"_parent\"><img src=\"https://colab.research.google.com/assets/colab-badge.svg\" alt=\"Open In Colab\"/></a>"
      ]
    },
    {
      "cell_type": "code",
      "execution_count": null,
      "metadata": {
        "id": "f0KzFWbDhVwW"
      },
      "outputs": [],
      "source": [
        "#Escreva um programa para aprovar o empréstimo bancário para a compra de uma casa\n",
        "#Pergunte o valor da casa, o salário do comprador e em quantos anos ele vai pagar\n",
        "\n",
        "casa = float(input('Qual seria o valor da casa? R$ '))\n",
        "salario = float(input('Qual é o valor do seu salário? R$ '))\n",
        "parcelas = int(input('Em quantos anos de parcela deseja pagar? '))\n",
        "prestação = casa / (parcelas*12)\n",
        "minimo = salario * 30/100\n",
        "print('Para pagar uma casa de R${:.2f} em {} anos '.format(casa, parcelas), end='')\n",
        "print('A prestação será de R${:.2f}'.format(prestação))\n",
        "\n",
        "#Se a prestação mensal exceder 30% do salário o empréstimo será negado.\n",
        "if prestação <= minimo:\n",
        "  print('Seu empréstimo foi aprovado!')\n",
        "else:\n",
        "  print('Seu empréstimo não foi aprovado!')"
      ]
    }
  ]
}