{
  "nbformat": 4,
  "nbformat_minor": 0,
  "metadata": {
    "colab": {
      "provenance": [],
      "name": "mentoriacomthales.ipynb",
      "authorship_tag": "ABX9TyPgY+VRE57VZoxBUE9kvayx",
      "include_colab_link": true
    },
    "kernelspec": {
      "name": "python3",
      "display_name": "Python 3"
    },
    "language_info": {
      "name": "python"
    }
  },
  "cells": [
    {
      "cell_type": "markdown",
      "metadata": {
        "id": "view-in-github",
        "colab_type": "text"
      },
      "source": [
        "<a href=\"https://colab.research.google.com/github/Miguelzan/Exercicios-em-Python/blob/main/mentoriacomthales.ipynb\" target=\"_parent\"><img src=\"https://colab.research.google.com/assets/colab-badge.svg\" alt=\"Open In Colab\"/></a>"
      ]
    },
    {
      "cell_type": "code",
      "execution_count": null,
      "metadata": {
        "id": "jXUcpTFBbrgT"
      },
      "outputs": [],
      "source": [
        "#(Desafio) - Crie um programa que percorra os números de 03 até 30 e diga o número que é primo ou não.\n",
        "\n",
        "\n",
        "contador = 0  #guarda o número primo\n",
        "\n",
        "for numero in range(3,31): #Percorre os números de 3 a 30\n",
        "\n",
        " if (numero % 2 == 0): #verifica se e um número primo\n",
        " \n",
        "   contador =+ 1    #Adiciona o número primo ao contador\n",
        "\n",
        "   print(\"O número {} é primo\".format(numero)) #mostra  uma msg na tela com o número primo\n",
        "\n",
        " else:\n",
        "  print(\"O número {} não é primo\".format(numero)) #mostra uma msg na tela com números não primos\n",
        "\n"
      ]
    },
    {
      "cell_type": "code",
      "source": [
        "#(Desafio) - Crie um programa que percorra os números de 03 até 30 e diga o número que é primo ou não.\n",
        "\n",
        "for numero in range(3,31):\n",
        "    ePrimo = True\n",
        "\n",
        "    for numeroTeste in range(2, numero):\n",
        "        if(numero % numeroTeste == 0):\n",
        "            ePrimo = False\n",
        "            break\n",
        "\n",
        "    if (ePrimo):\n",
        "        print(\"O número %d é primo\" % (numero))\n",
        "    else:\n",
        "        print(\"O número %d não é primo\" % (numero))"
      ],
      "metadata": {
        "id": "5-zJTb3vhA_z"
      },
      "execution_count": null,
      "outputs": []
    }
  ]
}