{
  "nbformat": 4,
  "nbformat_minor": 0,
  "metadata": {
    "colab": {
      "name": "Cópia de Untitled9.ipynb",
      "provenance": [],
      "authorship_tag": "ABX9TyNZbFS4x5dWF1CZEcXRyP1c",
      "include_colab_link": true
    },
    "kernelspec": {
      "name": "python3",
      "display_name": "Python 3"
    },
    "language_info": {
      "name": "python"
    }
  },
  "cells": [
    {
      "cell_type": "markdown",
      "metadata": {
        "id": "view-in-github",
        "colab_type": "text"
      },
      "source": [
        "<a href=\"https://colab.research.google.com/github/Miguelzan/Exercicios-em-Python/blob/main/novo.ipynb\" target=\"_parent\"><img src=\"https://colab.research.google.com/assets/colab-badge.svg\" alt=\"Open In Colab\"/></a>"
      ]
    },
    {
      "cell_type": "code",
      "source": [
        "#Exercício Python 39: \n",
        "\n",
        "#Faça um programa que leia o ano de nascimento de um jovem e informe,\n",
        "#de acordo com a sua idade,\n",
        "#se ele ainda vai se alistar ao serviço militar,\n",
        "#se é a hora exata de se alistar ou se já passou do tempo do alistamento. \n",
        "#Seu programa também deverá mostrar o tempo que falta ou que passou do prazo.\n",
        "\n",
        "from datetime import date\n",
        "atual = date.today().year\n",
        "print('''\\033[1;33;42m Exercício 39 – Alistamento Militar\n",
        "''')\n",
        "nasc = int(input('Digte seu ano de nasicmento: '))\n",
        "idade = atual - nasc\n",
        "print(f'Quem nasceu em {nasc}, tem {idade} anos, em {atual}')\n",
        "\n",
        "if idade == 18:\n",
        "  print('''\n",
        "  \\033[1;31;45mVocê precisa se alistar IMEDIATAMENTE!''')\n",
        "\n",
        "elif idade < 18:\n",
        "  falta = 18 - idade\n",
        "  print('Ainda falta {} anos para o alistamento'.format(falta))\n",
        "  ano = atual + falta\n",
        "  print(f'Seu alistamente será em: {ano}')\n",
        "  \n",
        "\n",
        "elif idade > 18:\n",
        "  falta = idade - 18\n",
        "  print('Você ja deveria ter se alistado a {} anos'.format(falta))\n",
        "  ano = atual - falta\n",
        "  print(f'Seu alistamento foi em: {ano}.')\n",
        "  \n",
        "  \n"
      ],
      "metadata": {
        "id": "-r3fLsl38goF"
      },
      "execution_count": null,
      "outputs": []
    }
  ]
}